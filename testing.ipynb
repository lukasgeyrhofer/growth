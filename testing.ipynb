{
 "cells": [
  {
   "cell_type": "code",
   "execution_count": 1,
   "metadata": {},
   "outputs": [],
   "source": [
    "import numpy as np\n",
    "import pandas as pd\n",
    "\n",
    "\n",
    "import matplotlib\n",
    "import matplotlib.pyplot as plt\n",
    "%matplotlib notebook\n",
    "\n",
    "from imp import reload\n",
    "import stochasticgrowth_eventline as sge\n",
    "sge = reload(sge)\n",
    "\n",
    "import timeit"
   ]
  },
  {
   "cell_type": "code",
   "execution_count": null,
   "metadata": {},
   "outputs": [
    {
     "name": "stdout",
     "output_type": "stream",
     "text": [
      "100000 2592.569612063933\n"
     ]
    }
   ],
   "source": [
    "out = dict()\n",
    "for dee in [10**(0.5*i) for i in range(10,12)]:\n",
    "    de = int(dee)\n",
    "    t = timeit.timeit('sge.Population().growth(divisionevents = {:d})'.format(de),number=20,setup='import stochasticgrowth_eventline as sge')\n",
    "    out[de] = t\n",
    "    print(de,t)"
   ]
  },
  {
   "cell_type": "code",
   "execution_count": null,
   "metadata": {},
   "outputs": [],
   "source": [
    "\n",
    "for de in [10**i for i in range(4)]:\n",
    "    #p = sge.Population()\n",
    "    t = timeit.timeit('sge.Population().growth(divisionevents = {:d})'.format(de),number=10,setup='import stochasticgrowth_eventline as sge')\n",
    "    print(de,t)"
   ]
  },
  {
   "cell_type": "code",
   "execution_count": null,
   "metadata": {},
   "outputs": [],
   "source": [
    "for key,value in out:\n",
    "    print(key,value/20.)"
   ]
  },
  {
   "cell_type": "code",
   "execution_count": null,
   "metadata": {},
   "outputs": [],
   "source": [
    "p = sge.Population(eigenvalues = [0.0,0.7],beta = .11, alpha = 0,noiseamplitude = .3,\n",
    "                   initialpopulationsize = 1, divtime_mean = 1, divtime_var = .001)\n",
    "p.growth(divisionevents = 1000)"
   ]
  },
  {
   "cell_type": "code",
   "execution_count": null,
   "metadata": {},
   "outputs": [],
   "source": [
    "data = p.divisiondata\n",
    "plt.scatter(data['times'],data['divisiontimes'])"
   ]
  },
  {
   "cell_type": "code",
   "execution_count": null,
   "metadata": {},
   "outputs": [],
   "source": [
    "plt.plot(data['times'],data['populationsize'])"
   ]
  },
  {
   "cell_type": "code",
   "execution_count": null,
   "metadata": {},
   "outputs": [],
   "source": [
    "x = np.linspace(0,2*np.pi,num = 200)\n",
    "\n",
    "\n",
    "plt.plot(x,1/np.tan(x))"
   ]
  },
  {
   "cell_type": "code",
   "execution_count": null,
   "metadata": {},
   "outputs": [],
   "source": []
  }
 ],
 "metadata": {
  "kernelspec": {
   "display_name": "Python 3",
   "language": "python",
   "name": "python3"
  },
  "language_info": {
   "codemirror_mode": {
    "name": "ipython",
    "version": 3
   },
   "file_extension": ".py",
   "mimetype": "text/x-python",
   "name": "python",
   "nbconvert_exporter": "python",
   "pygments_lexer": "ipython3",
   "version": "3.6.8"
  }
 },
 "nbformat": 4,
 "nbformat_minor": 2
}
